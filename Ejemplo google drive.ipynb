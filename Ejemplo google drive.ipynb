{
  "nbformat": 4,
  "nbformat_minor": 0,
  "metadata": {
    "colab": {
      "provenance": [],
      "toc_visible": true,
      "mount_file_id": "13liPP8AGVnhMkyv6u451c-6_GS9tqaes",
      "authorship_tag": "ABX9TyMRYyxwNaB6yVbO08sn2CE9",
      "include_colab_link": true
    },
    "kernelspec": {
      "name": "python3",
      "display_name": "Python 3"
    },
    "language_info": {
      "name": "python"
    }
  },
  "cells": [
    {
      "cell_type": "markdown",
      "metadata": {
        "id": "view-in-github",
        "colab_type": "text"
      },
      "source": [
        "<a href=\"https://colab.research.google.com/github/engineerchacon/Maestria-en-Inteligencia-Artificial-y-Analitica-de-Datos-Colab-Files/blob/main/Ejemplo%20google%20drive.ipynb\" target=\"_parent\"><img src=\"https://colab.research.google.com/assets/colab-badge.svg\" alt=\"Open In Colab\"/></a>"
      ]
    },
    {
      "cell_type": "code",
      "execution_count": 2,
      "metadata": {
        "colab": {
          "base_uri": "https://localhost:8080/"
        },
        "id": "DeJuPPi8rxOS",
        "outputId": "08bf0527-1c2e-4672-9826-fbcac2ffc535"
      },
      "outputs": [
        {
          "output_type": "stream",
          "name": "stdout",
          "text": [
            "Hola que tal\n"
          ]
        }
      ],
      "source": [
        "print('Hola que tal')"
      ]
    },
    {
      "cell_type": "markdown",
      "source": [
        "# **EJEMPLO DE CONEXION DE GOOGLE DRIVE A GOOGLE COLAB**"
      ],
      "metadata": {
        "id": "nCVxuZwesCXw"
      }
    }
  ]
}