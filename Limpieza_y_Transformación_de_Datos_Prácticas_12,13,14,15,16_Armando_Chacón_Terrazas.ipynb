{
  "nbformat": 4,
  "nbformat_minor": 0,
  "metadata": {
    "colab": {
      "provenance": [],
      "authorship_tag": "ABX9TyPQbYdvugCLVjVq3gtDFzko",
      "include_colab_link": true
    },
    "kernelspec": {
      "name": "python3",
      "display_name": "Python 3"
    },
    "language_info": {
      "name": "python"
    }
  },
  "cells": [
    {
      "cell_type": "markdown",
      "metadata": {
        "id": "view-in-github",
        "colab_type": "text"
      },
      "source": [
        "<a href=\"https://colab.research.google.com/github/engineerchacon/Maestria-en-Inteligencia-Artificial-y-Analitica-de-Datos-Colab-Files/blob/main/Limpieza_y_Transformaci%C3%B3n_de_Datos_Pr%C3%A1cticas_12%2C13%2C14%2C15%2C16_Armando_Chac%C3%B3n_Terrazas.ipynb\" target=\"_parent\"><img src=\"https://colab.research.google.com/assets/colab-badge.svg\" alt=\"Open In Colab\"/></a>"
      ]
    },
    {
      "cell_type": "markdown",
      "source": [
        "# **Instrucciones:**"
      ],
      "metadata": {
        "id": "XSTsLKY424IV"
      }
    },
    {
      "cell_type": "markdown",
      "source": [
        "El objetivo de esta actividad es que los estudiantes practiquen los temas vistos de carga de datos, normalización de nombres de columnas, separación y unión de columnas, errores en los tipos de datos. Todo es en un conjunto de datos utilizando Pandas en Python.\n",
        "\n",
        "**Instrucciones:**\n",
        "\n",
        "Descarga el archivo CSV, miaad-nyc-r-s.csv, proporcionado en esta tarea. También lo puedes encontrar en recursos.\n",
        "Crea un notebook en colab y guarda el archivo csv descargado en tu drive.\n",
        "Agrega secciones en el colab poniendo como título el nombre de la práctica\n",
        "# Práctica 12: Carga de Datos\n",
        "\n",
        "Al final del archivo contiene una línea que dice \"Esta es una línea que no deberías cargar\". Esta línea es irrelevante por lo tanto al cargar el CSV a un dataframe se debería de ignorar.\n",
        "\n",
        "Carga el archivo a un dataframe usando el código necesario para omitir la última fila.\n",
        "Usa df.tail(3) para demostrar que no has cargado la última línea\n",
        "Imprime la cantidad de filas y columnas del dataframe\n",
        "# Práctica 13: Agregar una columna\n",
        "\n",
        "Imprime los nombres de la columnas del archivo\n",
        "Asegúrate que el nombre de la primera columna debería ser INDEX MIIAD. Si esto no es así, entonces agrega dicho nombre a la columna y vuelve a imprimir los nombres para mostrar el cambio realizado.\n",
        "# Práctica 14: Normalización de los nombres de la columna.\n",
        "\n",
        "Normaliza los nombres de ls columnas, los cuales deberán estar en minúsculas. Asimismo, reemplaza los espacios con guion bajo\n",
        "Imprime los nombres de las columnas para demostrar que has realizado la normalización.\n",
        "# Práctica 15: Errores en los Tipos de Datos\n",
        "\n",
        "Imprime los tipos de datos de cada columna.\n",
        "Asegúrate que las columnas de SALE PRICE(sale_price), LAND SQUARE FEET (land_square_feet), GROSS SQUARE FEET (gross_square_feet) sean de tipo flotante. Escribe qué tipo de dato tienen asignado. Si no son correctos, realiza el cambio.\n",
        "Imprime de nuevo los tipos de datos para demostrar que has arreglado el problema.\n",
        "# Práctica 16: Genera el diccionario de datos del dataframe preprocesado.\n",
        "Imprime el contenido de dicho diccionario"
      ],
      "metadata": {
        "id": "UAH1qU6i29X0"
      }
    },
    {
      "cell_type": "markdown",
      "source": [
        "# **Cargar Drive**"
      ],
      "metadata": {
        "id": "zHGIOYZ_OqFA"
      }
    },
    {
      "cell_type": "code",
      "source": [
        "from google.colab import drive\n",
        "drive.mount('/content/drive')"
      ],
      "metadata": {
        "colab": {
          "base_uri": "https://localhost:8080/"
        },
        "id": "gWs_iGJfgCIv",
        "outputId": "9bddbbf5-1485-4eae-b061-ec819d2bff38"
      },
      "execution_count": null,
      "outputs": [
        {
          "output_type": "stream",
          "name": "stdout",
          "text": [
            "Mounted at /content/drive\n"
          ]
        }
      ]
    },
    {
      "cell_type": "markdown",
      "source": [
        "# **Práctica 12: Carga de Datos**"
      ],
      "metadata": {
        "id": "tiD87JaVOOYR"
      }
    },
    {
      "cell_type": "code",
      "source": [
        "# Importamos la librería de pandas y le asignamos el alias 'pd'\n",
        "import pandas as pd\n",
        "\n",
        "# Definimos la ruta del archivo en Google Drive\n",
        "file_path = '/content/drive/MyDrive/Unidad02/miaad-nyc-r-s.csv'\n",
        "\n",
        "# Cargamos el archivo CSV a un DataFrame.\n",
        "# Usamos 'skipfooter=1' para omitir la última fila del archivo.\n",
        "# 'engine='python'' es para que 'skipfooter' funcione\n",
        "df = pd.read_csv(file_path, skipfooter=1, engine='python')\n",
        "\n",
        "# Usamos df.tail(3) para demostrar que no hemos cargado la última línea y se ven las últimas tres filas de datos válidos.\n",
        "print(\"Últimas 3 filas del DataFrame de la columna A hacia la V\")\n",
        "print(df.tail(3))\n",
        "print(\"\\n\")\n",
        "\n",
        "# Imprimimos la cantidad de filas y columnas del DataFrame.\n",
        "# df.shape nos devuelve una tupla (filas, columnas).\n",
        "print(f\"El DataFrame tiene {df.shape[0]} filas y {df.shape[1]} columnas.\")"
      ],
      "metadata": {
        "colab": {
          "base_uri": "https://localhost:8080/"
        },
        "id": "z2JB0G7kOQsd",
        "outputId": "153ea5ad-702f-453b-9615-647db3e2aaed"
      },
      "execution_count": null,
      "outputs": [
        {
          "output_type": "stream",
          "name": "stdout",
          "text": [
            "Últimas 3 filas del DataFrame de la columna A hacia la V\n",
            "       Unnamed: 0  BOROUGH NEIGHBORHOOD  \\\n",
            "84545        8411        5      WOODROW   \n",
            "84546        8412        5      WOODROW   \n",
            "84547        8413        5      WOODROW   \n",
            "\n",
            "                           BUILDING CLASS CATEGORY TAX CLASS AT PRESENT  \\\n",
            "84545  02 TWO FAMILY DWELLINGS                                        1   \n",
            "84546  22 STORE BUILDINGS                                             4   \n",
            "84547  35 INDOOR PUBLIC AND CULTURAL FACILITIES                       4   \n",
            "\n",
            "       BLOCK  LOT EASE-MENT BUILDING CLASS AT PRESENT                ADDRESS  \\\n",
            "84545   7351   60                                  B2       49 PITNEY AVENUE   \n",
            "84546   7100   28                                  K6  2730 ARTHUR KILL ROAD   \n",
            "84547   7105  679                                  P9      155 CLAY PIT ROAD   \n",
            "\n",
            "       ... RESIDENTIAL UNITS  COMMERCIAL UNITS  TOTAL UNITS  LAND SQUARE FEET  \\\n",
            "84545  ...                 2                 0            2              4000   \n",
            "84546  ...                 0                 7            7            208033   \n",
            "84547  ...                 0                 1            1             10796   \n",
            "\n",
            "       GROSS SQUARE FEET YEAR BUILT TAX CLASS AT TIME OF SALE  \\\n",
            "84545               1496       1925                         1   \n",
            "84546              64117       2001                         4   \n",
            "84547               2400       2006                         4   \n",
            "\n",
            "       BUILDING CLASS AT TIME OF SALE  SALE PRICE            SALE DATE  \n",
            "84545                              B2      460000  2017-07-05 00:00:00  \n",
            "84546                              K6    11693337  2016-12-21 00:00:00  \n",
            "84547                              P9       69300  2016-10-27 00:00:00  \n",
            "\n",
            "[3 rows x 22 columns]\n",
            "\n",
            "\n",
            "El DataFrame tiene 84548 filas y 22 columnas.\n"
          ]
        }
      ]
    },
    {
      "cell_type": "markdown",
      "source": [
        "# **Práctica 13: Agregar una columna**"
      ],
      "metadata": {
        "id": "5ewWYUr3QWPV"
      }
    },
    {
      "cell_type": "code",
      "source": [
        "# Imprimimos los nombres de las columnas para ver su estado inicial.\n",
        "print(\"Nombres de columnas antes de verificar si es INDEX MIIAD\")\n",
        "print(df.columns)\n",
        "print(\"\\n\")\n",
        "\n",
        "# Verificamos si el nombre de la primera columna (índice 0) es 'INDEX MIIAD'\n",
        "if df.columns[0] != 'INDEX MIIAD':\n",
        "    # Si NO es 'INDEX MIIAD', se ejecuta este bloque.\n",
        "    print(f\"La primera columna se llama '{df.columns[0]}'.\")\n",
        "    print(\"Se agregará una nueva columna 'INDEX MIIAD' al inicio del DataFrame.\\n\")\n",
        "\n",
        "    # Usamos df.insert() para agregar la nueva columna en una posición específica.\n",
        "    # Posición: 0 (al principio)\n",
        "    # Valores: df.index (usamos el índice del DataFrame como valores para la nueva columna)\n",
        "    df.insert(0, 'INDEX MIIAD', df.index)\n",
        "else:\n",
        "    # Si la primera columna YA es 'INDEX MIIAD', se ejecuta este bloque.\n",
        "    print(\"La primera columna ya se llama 'INDEX MIIAD'. No se requiere ninguna acción.\\n\")\n",
        "\n",
        "# Imprimimos los nombres de las columnas para mostrar el resultado final.\n",
        "print(\"Nombres de columnas después de la verificar\")\n",
        "print(df.columns)\n",
        "print(\"\\n\")\n",
        "\n",
        "# Mostramos las primeras filas del DataFrame para ver la nueva estructura.\n",
        "print(\"Vista previa del DataFrame con la columna 'INDEX MIIAD'\")\n",
        "print(df.head())"
      ],
      "metadata": {
        "colab": {
          "base_uri": "https://localhost:8080/"
        },
        "id": "dGfcEcc3QcSr",
        "outputId": "8ae8e3e0-f2ce-426a-acf4-efcf51065cc5"
      },
      "execution_count": null,
      "outputs": [
        {
          "output_type": "stream",
          "name": "stdout",
          "text": [
            "Nombres de columnas antes de verificar si es INDEX MIIAD\n",
            "Index(['Unnamed: 0', 'BOROUGH', 'NEIGHBORHOOD', 'BUILDING CLASS CATEGORY',\n",
            "       'TAX CLASS AT PRESENT', 'BLOCK', 'LOT', 'EASE-MENT',\n",
            "       'BUILDING CLASS AT PRESENT', 'ADDRESS', 'APARTMENT NUMBER', 'ZIP CODE',\n",
            "       'RESIDENTIAL UNITS', 'COMMERCIAL UNITS', 'TOTAL UNITS',\n",
            "       'LAND SQUARE FEET', 'GROSS SQUARE FEET', 'YEAR BUILT',\n",
            "       'TAX CLASS AT TIME OF SALE', 'BUILDING CLASS AT TIME OF SALE',\n",
            "       'SALE PRICE', 'SALE DATE'],\n",
            "      dtype='object')\n",
            "\n",
            "\n",
            "La primera columna se llama 'Unnamed: 0'.\n",
            "Se agregará una nueva columna 'INDEX MIIAD' al inicio del DataFrame.\n",
            "\n",
            "Nombres de columnas después de la verificar\n",
            "Index(['INDEX MIIAD', 'Unnamed: 0', 'BOROUGH', 'NEIGHBORHOOD',\n",
            "       'BUILDING CLASS CATEGORY', 'TAX CLASS AT PRESENT', 'BLOCK', 'LOT',\n",
            "       'EASE-MENT', 'BUILDING CLASS AT PRESENT', 'ADDRESS', 'APARTMENT NUMBER',\n",
            "       'ZIP CODE', 'RESIDENTIAL UNITS', 'COMMERCIAL UNITS', 'TOTAL UNITS',\n",
            "       'LAND SQUARE FEET', 'GROSS SQUARE FEET', 'YEAR BUILT',\n",
            "       'TAX CLASS AT TIME OF SALE', 'BUILDING CLASS AT TIME OF SALE',\n",
            "       'SALE PRICE', 'SALE DATE'],\n",
            "      dtype='object')\n",
            "\n",
            "\n",
            "Vista previa del DataFrame con la columna 'INDEX MIIAD'\n",
            "   INDEX MIIAD  Unnamed: 0  BOROUGH   NEIGHBORHOOD  \\\n",
            "0            0           4        1  ALPHABET CITY   \n",
            "1            1           5        1  ALPHABET CITY   \n",
            "2            2           6        1  ALPHABET CITY   \n",
            "3            3           7        1  ALPHABET CITY   \n",
            "4            4           8        1  ALPHABET CITY   \n",
            "\n",
            "                       BUILDING CLASS CATEGORY TAX CLASS AT PRESENT  BLOCK  \\\n",
            "0  07 RENTALS - WALKUP APARTMENTS                                2A    392   \n",
            "1  07 RENTALS - WALKUP APARTMENTS                                 2    399   \n",
            "2  07 RENTALS - WALKUP APARTMENTS                                 2    399   \n",
            "3  07 RENTALS - WALKUP APARTMENTS                                2B    402   \n",
            "4  07 RENTALS - WALKUP APARTMENTS                                2A    404   \n",
            "\n",
            "   LOT EASE-MENT BUILDING CLASS AT PRESENT  ... RESIDENTIAL UNITS  \\\n",
            "0    6                                  C2  ...                 5   \n",
            "1   26                                  C7  ...                28   \n",
            "2   39                                  C7  ...                16   \n",
            "3   21                                  C4  ...                10   \n",
            "4   55                                  C2  ...                 6   \n",
            "\n",
            "  COMMERCIAL UNITS  TOTAL UNITS  LAND SQUARE FEET  GROSS SQUARE FEET  \\\n",
            "0                0            5              1633               6440   \n",
            "1                3           31              4616              18690   \n",
            "2                1           17              2212               7803   \n",
            "3                0           10              2272               6794   \n",
            "4                0            6              2369               4615   \n",
            "\n",
            "   YEAR BUILT TAX CLASS AT TIME OF SALE BUILDING CLASS AT TIME OF SALE  \\\n",
            "0        1900                         2                             C2   \n",
            "1        1900                         2                             C7   \n",
            "2        1900                         2                             C7   \n",
            "3        1913                         2                             C4   \n",
            "4        1900                         2                             C2   \n",
            "\n",
            "   SALE PRICE            SALE DATE  \n",
            "0     6625000  2017-07-19 00:00:00  \n",
            "1         -    2016-12-14 00:00:00  \n",
            "2         -    2016-12-09 00:00:00  \n",
            "3     3936272  2016-09-23 00:00:00  \n",
            "4     8000000  2016-11-17 00:00:00  \n",
            "\n",
            "[5 rows x 23 columns]\n"
          ]
        }
      ]
    },
    {
      "cell_type": "markdown",
      "source": [
        "# **Práctica 14: Normalización de los nombres de la columna**"
      ],
      "metadata": {
        "id": "D_q-IsFKQi60"
      }
    },
    {
      "cell_type": "code",
      "source": [
        "# Normalizamos los nombres de las columnas.\n",
        "# .str.lower() convierte todos los nombres a minúsculas.\n",
        "# .str.replace(' ', '_') reemplaza cada espacio en blanco con un guion bajo.\n",
        "df.columns = df.columns.str.lower().str.replace(' ', '_')\n",
        "\n",
        "# Imprimimos los nombres de las columnas para demostrar la normalización.\n",
        "print(\"Nombres de columnas normalizados (snake_case)\")\n",
        "print(df.columns)"
      ],
      "metadata": {
        "colab": {
          "base_uri": "https://localhost:8080/"
        },
        "id": "ZoD9dUEsQkvX",
        "outputId": "ce0c1b2f-a3dd-48a6-bc51-72529b8025dc"
      },
      "execution_count": null,
      "outputs": [
        {
          "output_type": "stream",
          "name": "stdout",
          "text": [
            "Nombres de columnas normalizados (snake_case)\n",
            "Index(['index_miiad', 'unnamed:_0', 'borough', 'neighborhood',\n",
            "       'building_class_category', 'tax_class_at_present', 'block', 'lot',\n",
            "       'ease-ment', 'building_class_at_present', 'address', 'apartment_number',\n",
            "       'zip_code', 'residential_units', 'commercial_units', 'total_units',\n",
            "       'land_square_feet', 'gross_square_feet', 'year_built',\n",
            "       'tax_class_at_time_of_sale', 'building_class_at_time_of_sale',\n",
            "       'sale_price', 'sale_date'],\n",
            "      dtype='object')\n"
          ]
        }
      ]
    },
    {
      "cell_type": "markdown",
      "source": [
        "# **Práctica 15: Errores en los Tipos de Datos**"
      ],
      "metadata": {
        "id": "13ZOXOwzQn8_"
      }
    },
    {
      "cell_type": "code",
      "source": [
        "# Imprimimos los tipos de datos de cada columna.\n",
        "print(\"Tipos de datos originales\")\n",
        "print(df.dtypes)\n",
        "print(\"\\n\")\n",
        "\n",
        "# Analizamos el tipo de dato de las columnas\n",
        "# Las columnas 'sale_price', 'land_square_feet', y 'gross_square_feet'\n",
        "# actualmente son de tipo 'object', lo que significa que pandas las está\n",
        "# tratando como texto. Esto se debe a que pueden contener caracteres no numéricos.\n",
        "print(\"Análisis: Las columnas de precio y superficie son de tipo 'object' y deben ser 'float'.\\n\")\n",
        "\n",
        "# Definimos las columnas que queremos convertir a tipo flotante.\n",
        "columns_to_convert = ['sale_price', 'land_square_feet', 'gross_square_feet']\n",
        "\n",
        "# Usamos un ciclo para convertir cada columna.\n",
        "for col in columns_to_convert:\n",
        "    # pd.to_numeric convierte una columna a un tipo numérico.\n",
        "    # 'errors='coerce'' es muy importante: si encuentra un valor que no puede\n",
        "    # convertir lo reemplazará con 'NaN' (Not a Number) en lugar de dar un error.\n",
        "    df[col] = pd.to_numeric(df[col], errors='coerce')\n",
        "\n",
        "# Imprimimos de nuevo los tipos de datos para demostrar la corrección.\n",
        "# Ahora las columnas deberían aparecer como 'float64'.\n",
        "print(\"Tipos de datos después de la corrección\")\n",
        "print(df.dtypes)"
      ],
      "metadata": {
        "colab": {
          "base_uri": "https://localhost:8080/"
        },
        "id": "QeZ15P5RQxgM",
        "outputId": "a7f5fdd9-305c-4238-e3c4-fe0f2d391689"
      },
      "execution_count": null,
      "outputs": [
        {
          "output_type": "stream",
          "name": "stdout",
          "text": [
            "Tipos de datos originales\n",
            "index_miiad                         int64\n",
            "unnamed:_0                          int64\n",
            "borough                             int64\n",
            "neighborhood                       object\n",
            "building_class_category            object\n",
            "tax_class_at_present               object\n",
            "block                               int64\n",
            "lot                                 int64\n",
            "ease-ment                          object\n",
            "building_class_at_present          object\n",
            "address                            object\n",
            "apartment_number                   object\n",
            "zip_code                            int64\n",
            "residential_units                   int64\n",
            "commercial_units                    int64\n",
            "total_units                         int64\n",
            "land_square_feet                  float64\n",
            "gross_square_feet                 float64\n",
            "year_built                          int64\n",
            "tax_class_at_time_of_sale           int64\n",
            "building_class_at_time_of_sale     object\n",
            "sale_price                        float64\n",
            "sale_date                          object\n",
            "dtype: object\n",
            "\n",
            "\n",
            "Análisis: Las columnas de precio y superficie son de tipo 'object' y deben ser 'float'.\n",
            "\n",
            "Tipos de datos después de la corrección\n",
            "index_miiad                         int64\n",
            "unnamed:_0                          int64\n",
            "borough                             int64\n",
            "neighborhood                       object\n",
            "building_class_category            object\n",
            "tax_class_at_present               object\n",
            "block                               int64\n",
            "lot                                 int64\n",
            "ease-ment                          object\n",
            "building_class_at_present          object\n",
            "address                            object\n",
            "apartment_number                   object\n",
            "zip_code                            int64\n",
            "residential_units                   int64\n",
            "commercial_units                    int64\n",
            "total_units                         int64\n",
            "land_square_feet                  float64\n",
            "gross_square_feet                 float64\n",
            "year_built                          int64\n",
            "tax_class_at_time_of_sale           int64\n",
            "building_class_at_time_of_sale     object\n",
            "sale_price                        float64\n",
            "sale_date                          object\n",
            "dtype: object\n"
          ]
        }
      ]
    },
    {
      "cell_type": "markdown",
      "source": [
        "# **Práctica 16: Genera el diccionario de datos del dataframe preprocesado. Imprime el contenido de dicho diccionario**"
      ],
      "metadata": {
        "id": "PugI1FuAQ2WP"
      }
    },
    {
      "cell_type": "code",
      "source": [
        "# Creamos un nuevo DataFrame para que funcione como nuestro diccionario de datos.\n",
        "# 'Nombre de columna': Contiene la lista de nombres de las columnas del DataFrame.\n",
        "# 'Tipo de dato': Es una lista que generamos para obtener el tipo de dato de cada columna como texto.\n",
        "diccionario_datos = pd.DataFrame({\n",
        "    'nombre_de_columna': df.columns,\n",
        "    'tipo_de_dato': [str(df[col].dtype) for col in df.columns]\n",
        "})\n",
        "\n",
        "# Imprimimos el contenido del diccionario de datos.\n",
        "print(\"Diccionario de Datos del DataFrame Preprocesado\")\n",
        "print(\"\\n\")\n",
        "print(diccionario_datos)"
      ],
      "metadata": {
        "colab": {
          "base_uri": "https://localhost:8080/"
        },
        "id": "mIisJjs0RN4m",
        "outputId": "061f43d4-ce79-457d-d91c-e7bb6f898672"
      },
      "execution_count": null,
      "outputs": [
        {
          "output_type": "stream",
          "name": "stdout",
          "text": [
            "Diccionario de Datos del DataFrame Preprocesado\n",
            "\n",
            "\n",
            "                 nombre_de_columna tipo_de_dato\n",
            "0                      index_miiad        int64\n",
            "1                       unnamed:_0        int64\n",
            "2                          borough        int64\n",
            "3                     neighborhood       object\n",
            "4          building_class_category       object\n",
            "5             tax_class_at_present       object\n",
            "6                            block        int64\n",
            "7                              lot        int64\n",
            "8                        ease-ment       object\n",
            "9        building_class_at_present       object\n",
            "10                         address       object\n",
            "11                apartment_number       object\n",
            "12                        zip_code        int64\n",
            "13               residential_units        int64\n",
            "14                commercial_units        int64\n",
            "15                     total_units        int64\n",
            "16                land_square_feet      float64\n",
            "17               gross_square_feet      float64\n",
            "18                      year_built        int64\n",
            "19       tax_class_at_time_of_sale        int64\n",
            "20  building_class_at_time_of_sale       object\n",
            "21                      sale_price      float64\n",
            "22                       sale_date       object\n"
          ]
        }
      ]
    }
  ]
}