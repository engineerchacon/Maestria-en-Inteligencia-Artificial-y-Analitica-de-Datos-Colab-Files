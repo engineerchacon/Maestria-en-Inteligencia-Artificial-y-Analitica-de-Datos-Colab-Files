{
  "nbformat": 4,
  "nbformat_minor": 0,
  "metadata": {
    "colab": {
      "provenance": [],
      "mount_file_id": "1x7lcDDhSqQWwXlRcX_rHb1tUjhwqYeNx",
      "authorship_tag": "ABX9TyM2f/U7hfH2oZ9eteHnb3yC",
      "include_colab_link": true
    },
    "kernelspec": {
      "name": "python3",
      "display_name": "Python 3"
    },
    "language_info": {
      "name": "python"
    }
  },
  "cells": [
    {
      "cell_type": "markdown",
      "metadata": {
        "id": "view-in-github",
        "colab_type": "text"
      },
      "source": [
        "<a href=\"https://colab.research.google.com/github/engineerchacon/Maestria-en-Inteligencia-Artificial-y-Analitica-de-Datos-Colab-Files/blob/main/Pr%C3%A1ctica_19_Datos_Duplicados_Armando_Chac%C3%B3n_Terrazas.ipynb\" target=\"_parent\"><img src=\"https://colab.research.google.com/assets/colab-badge.svg\" alt=\"Open In Colab\"/></a>"
      ]
    },
    {
      "cell_type": "markdown",
      "source": [
        "# **Introducción:**"
      ],
      "metadata": {
        "id": "BSRP9c_uB7Wq"
      }
    },
    {
      "cell_type": "markdown",
      "source": [
        "El objetivo de esta actividad es que los estudiantes pongan en práctica lo visto en el vídeo y en el notebook que se proporciona\n",
        "\n",
        "Instrucciones:\n",
        "\n",
        "1.Descarga el archivo dirtydata.csv, proporcionado en esta tarea. También lo puedes encontrar en recursos.\n",
        "\n",
        "2.Crea un notebook en colab y guarda el archivo csv  en tu drive.\n",
        "\n",
        "3.Agrega secciones en el colab poniendo como título el nombre de cada ejercicio"
      ],
      "metadata": {
        "id": "WRe2H_ewCkC_"
      }
    },
    {
      "cell_type": "code",
      "source": [
        "# Montar Google Drive para acceder al archivo\n",
        "from google.colab import drive\n",
        "drive.mount('/content/drive')"
      ],
      "metadata": {
        "id": "XpI9SOj-R2fG",
        "outputId": "77313c38-16dd-4090-f0bf-314e0208c183",
        "colab": {
          "base_uri": "https://localhost:8080/"
        }
      },
      "execution_count": null,
      "outputs": [
        {
          "output_type": "stream",
          "name": "stdout",
          "text": [
            "Mounted at /content/drive\n"
          ]
        }
      ]
    },
    {
      "cell_type": "markdown",
      "source": [
        "# **Ejercicio 01 Duplicidad Parcial Una columna: Contar y Filtrar los registros duplicados en Duration**"
      ],
      "metadata": {
        "id": "J1O4fa4iDNS5"
      }
    },
    {
      "cell_type": "markdown",
      "source": [
        "1.Carga el conjunto de datos dirtydata.csv y verifica que su carga sea correcta.\n",
        "\n",
        "2.Cuenta la cantidad de registros duplicados utilizando solo la información de columna Duration e imprime.\n",
        "\n",
        "3.Utiliza value_counts() e imprime la cantidad de registros que hay por cada valor único.\n",
        "\n",
        "4.Filtra los datos y obten los registros sin duplicados."
      ],
      "metadata": {
        "id": "pSDD_0neDQfy"
      }
    },
    {
      "cell_type": "code",
      "source": [
        "# Importar la biblioteca pandas\n",
        "import pandas as pd\n",
        "\n",
        "# 1. Cargar el conjunto de datos desde Google Drive\n",
        "ruta_archivo = '/content/drive/MyDrive/Unidad02/dirtydata.csv'\n",
        "\n",
        "# Leer el archivo CSV y guardarlo en un DataFrame llamado 'df'\n",
        "df = pd.read_csv(ruta_archivo)\n",
        "\n",
        "# Mostrar las primeras 5 filas del DataFrame para verificar la carga correcta\n",
        "print(\"Primeras 5 filas del DataFrame:\")\n",
        "print(df.head())\n",
        "print(\"\\n\")\n",
        "\n",
        "# 2. Contar registros duplicados en la columna 'Duration'\n",
        "# duplicated() identifica duplicados, subset=['Duration'] para una columna específica\n",
        "# keep='first' marca como True solo las repeticiones (excepto la primera aparición)\n",
        "duplicados_duration = df.duplicated(subset=['Duration'], keep='first').sum()\n",
        "\n",
        "# Mostrar el número total de registros duplicados en la columna Duration\n",
        "print(f\"Número de registros duplicados en 'Duration': {duplicados_duration}\")\n",
        "print(\"\\n\")\n",
        "\n",
        "# 3. Contar valores únicos en 'Duration'\n",
        "# value_counts() cuenta cuántas veces aparece cada valor único\n",
        "conteo_valores = df['Duration'].value_counts()\n",
        "\n",
        "# Mostrar la frecuencia de cada valor único en la columna Duration\n",
        "print(\"Frecuencia de valores únicos en 'Duration':\")\n",
        "print(conteo_valores)\n",
        "print(\"\\n\")\n",
        "\n",
        "# 4. Filtrar datos para obtener registros sin duplicados en 'Duration'\n",
        "# drop_duplicates() elimina duplicados, subset=['Duration'] para una columna específica\n",
        "# keep='first' mantiene la primera aparición de cada duplicado\n",
        "df_sin_duplicados = df.drop_duplicates(subset=['Duration'], keep='first')\n",
        "\n",
        "# Mostrar el DataFrame resultante sin duplicados en Duration\n",
        "print(\"Registros sin duplicados en 'Duration':\")\n",
        "print(df_sin_duplicados)\n",
        "print(\"\\n\")\n",
        "\n",
        "# Mostrar información del DataFrame original y el filtrado\n",
        "print(f\"Registros originales: {len(df)}\")\n",
        "print(f\"Registros sin duplicados: {len(df_sin_duplicados)}\")"
      ],
      "metadata": {
        "colab": {
          "base_uri": "https://localhost:8080/"
        },
        "id": "Z7_RgNu_DeME",
        "outputId": "0956597b-9d97-49bc-fd51-d2d5af2ac418"
      },
      "execution_count": null,
      "outputs": [
        {
          "output_type": "stream",
          "name": "stdout",
          "text": [
            "Primeras 5 filas del DataFrame:\n",
            "   Duration          Date  Pulse  Maxpulse  Calories\n",
            "0        60  '2020/12/01'    110       130     409.1\n",
            "1        60  '2020/12/02'    117       145     479.0\n",
            "2        60  '2020/12/03'    103       135     340.0\n",
            "3        45  '2020/12/04'    109       175     282.4\n",
            "4        45  '2020/12/05'    117       148     406.0\n",
            "\n",
            "\n",
            "Número de registros duplicados en 'Duration': 28\n",
            "\n",
            "\n",
            "Frecuencia de valores únicos en 'Duration':\n",
            "Duration\n",
            "60     24\n",
            "45      6\n",
            "450     1\n",
            "30      1\n",
            "Name: count, dtype: int64\n",
            "\n",
            "\n",
            "Registros sin duplicados en 'Duration':\n",
            "   Duration          Date  Pulse  Maxpulse  Calories\n",
            "0        60  '2020/12/01'    110       130     409.1\n",
            "3        45  '2020/12/04'    109       175     282.4\n",
            "7       450  '2020/12/08'    104       134     253.3\n",
            "8        30  '2020/12/09'    109       133     195.1\n",
            "\n",
            "\n",
            "Registros originales: 32\n",
            "Registros sin duplicados: 4\n"
          ]
        }
      ]
    },
    {
      "cell_type": "markdown",
      "source": [
        "# **Ejercicio 02 Duplicidad Parcial Dos columnas: Contar y Filtrar los registros duplicados en Pulse y MaxPulse**"
      ],
      "metadata": {
        "id": "GzgIPT59O2oz"
      }
    },
    {
      "cell_type": "markdown",
      "source": [
        "1.Carga el conjunto de datos dirty.csv y verifica que su carga sea correcta.\n",
        "\n",
        "2.Cuenta la cantidad de registros duplicados utilizando la información de las columnas Pulse y Maxpulse\n",
        "\n",
        "3.Utiliza value_counts() e imprime la cantidad de registros que hay por cada valor único.\n",
        "\n",
        "4.Filtra los datos y obten los registros cuando keep = 'last'"
      ],
      "metadata": {
        "id": "hRadEMG4O4c7"
      }
    },
    {
      "cell_type": "code",
      "source": [
        "# 1. Cargar el conjunto de datos desde Google Drive\n",
        "# Ruta del archivo CSV en Google Drive\n",
        "ruta_archivo = '/content/drive/MyDrive/Unidad02/dirtydata.csv'\n",
        "\n",
        "# Leer el archivo CSV y guardarlo en un DataFrame llamado 'df'\n",
        "df = pd.read_csv(ruta_archivo)\n",
        "\n",
        "# Mostrar las primeras 5 filas del DataFrame para verificar la carga correcta\n",
        "print(\"Primeras 5 filas del DataFrame:\")\n",
        "print(df.head())\n",
        "print(\"\\n\")\n",
        "\n",
        "# 2. Contar registros duplicados en las columnas 'Pulse' y 'Maxpulse'\n",
        "# duplicated() identifica duplicados, subset=['Pulse', 'Maxpulse'] para múltiples columnas\n",
        "# keep='first' marca como True solo las repeticiones (excepto la primera aparición)\n",
        "duplicados_pulse_maxpulse = df.duplicated(subset=['Pulse', 'Maxpulse'], keep='first').sum()\n",
        "\n",
        "# Mostrar el número total de registros duplicados en las columnas Pulse y Maxpulse\n",
        "print(f\"Número de registros duplicados en 'Pulse' y 'Maxpulse': {duplicados_pulse_maxpulse}\")\n",
        "print(\"\\n\")\n",
        "\n",
        "# 3. Contar frecuencia de valores únicos en la combinación de 'Pulse' y 'Maxpulse'\n",
        "# value_counts() cuenta cuántas veces aparece cada combinación única de valores\n",
        "conteo_valores = df[['Pulse', 'Maxpulse']].value_counts()\n",
        "\n",
        "# Mostrar la frecuencia de cada combinación única de valores\n",
        "print(\"Frecuencia de combinaciones únicas en 'Pulse' y 'Maxpulse':\")\n",
        "print(conteo_valores)\n",
        "print(\"\\n\")\n",
        "\n",
        "# 4. Filtrar datos para obtener registros duplicados manteniendo la última aparición\n",
        "# duplicated() con keep='last' marca como True las repeticiones (excepto la última aparición)\n",
        "# Luego filtramos el DataFrame para mostrar solo los registros duplicados\n",
        "duplicados_last = df[df.duplicated(subset=['Pulse', 'Maxpulse'], keep='last')]\n",
        "\n",
        "# Mostrar los registros duplicados (manteniendo la última aparición)\n",
        "print(\"Registros duplicados en 'Pulse' y 'Maxpulse' (keep='last'):\")\n",
        "print(duplicados_last)\n",
        "print(\"\\n\")\n",
        "\n",
        "# Mostrar información adicional\n",
        "print(f\"Total de registros duplicados encontrados: {len(duplicados_last)}\")\n",
        "\n",
        "#NOTA: Me fije que la base datos tiene otro valor que si la fecha fuera correcta en la fila 28 el programa lo contaria como fecha, y en lugar de 3 seria 4.\n",
        "#Se hizo la pregunta en clase en que es más importante tomarlo como valor Nulo o si corregir la fila Date."
      ],
      "metadata": {
        "colab": {
          "base_uri": "https://localhost:8080/"
        },
        "id": "2nwsYDt1PVJT",
        "outputId": "25ed0799-8bf2-4df9-a611-31fb1b4fa7b0"
      },
      "execution_count": null,
      "outputs": [
        {
          "output_type": "stream",
          "name": "stdout",
          "text": [
            "Primeras 5 filas del DataFrame:\n",
            "   Duration          Date  Pulse  Maxpulse  Calories\n",
            "0        60  '2020/12/01'    110       130     409.1\n",
            "1        60  '2020/12/02'    117       145     479.0\n",
            "2        60  '2020/12/03'    103       135     340.0\n",
            "3        45  '2020/12/04'    109       175     282.4\n",
            "4        45  '2020/12/05'    117       148     406.0\n",
            "\n",
            "\n",
            "Número de registros duplicados en 'Pulse' y 'Maxpulse': 3\n",
            "\n",
            "\n",
            "Frecuencia de combinaciones únicas en 'Pulse' y 'Maxpulse':\n",
            "Pulse  Maxpulse\n",
            "100    120         4\n",
            "92     115         1\n",
            "       118         1\n",
            "97     125         1\n",
            "90     112         1\n",
            "98     120         1\n",
            "       123         1\n",
            "       124         1\n",
            "100    119         1\n",
            "       132         1\n",
            "102    126         1\n",
            "       127         1\n",
            "       129         1\n",
            "103    123         1\n",
            "       132         1\n",
            "       135         1\n",
            "       147         1\n",
            "104    132         1\n",
            "       134         1\n",
            "105    132         1\n",
            "106    128         1\n",
            "108    131         1\n",
            "109    133         1\n",
            "       175         1\n",
            "110    130         1\n",
            "       136         1\n",
            "117    145         1\n",
            "       148         1\n",
            "130    101         1\n",
            "Name: count, dtype: int64\n",
            "\n",
            "\n",
            "Registros duplicados en 'Pulse' y 'Maxpulse' (keep='last'):\n",
            "    Duration          Date  Pulse  Maxpulse  Calories\n",
            "11        60  '2020/12/12'    100       120     250.7\n",
            "12        60  '2020/12/12'    100       120     250.7\n",
            "17        60  '2020/12/17'    100       120     300.0\n",
            "\n",
            "\n",
            "Total de registros duplicados encontrados: 3\n"
          ]
        }
      ]
    },
    {
      "cell_type": "markdown",
      "source": [
        "# **Ejercicio 03 Duplicidad Total o Exacta: Contar y Filtrar los registros duplicados**"
      ],
      "metadata": {
        "id": "Oo-WmirMW6p8"
      }
    },
    {
      "cell_type": "markdown",
      "source": [
        "1.Carga el conjunto de datos dirty.csv y verifica que su carga sea correcta.\n",
        "\n",
        "2.Cuenta la cantidad de registros duplicados exactos (todas las columnas)\n",
        "\n",
        "3.Utiliza sum() e imprime la cantidad de registros con duplicidad exacta\n",
        "\n",
        "4.Filtra los datos y obten los registros cuando keep = 'last'"
      ],
      "metadata": {
        "id": "2N9UJs0mXUKa"
      }
    },
    {
      "cell_type": "code",
      "source": [
        "# 1. Leer el archivo CSV y guardarlo en un DataFrame llamado 'df'\n",
        "df = pd.read_csv(ruta_archivo)\n",
        "\n",
        "# Mostrar las primeras 5 filas del DataFrame para verificar la carga correcta\n",
        "print(\"Primeras 5 filas del DataFrame:\")\n",
        "print(df.head())\n",
        "print(\"\\n\")\n",
        "\n",
        "# 2. Contar registros duplicados exactos (en todas las columnas)\n",
        "# duplicated() sin parámetros identifica duplicados exactos en todas las columnas\n",
        "# keep='first' marca como True solo las repeticiones (excepto la primera aparición)\n",
        "duplicados_exactos = df.duplicated(keep='first').sum()\n",
        "\n",
        "# 3. Mostrar la cantidad de registros con duplicidad exacta\n",
        "print(f\"Número de registros con duplicidad exacta (todas las columnas): {duplicados_exactos}\")\n",
        "print(\"\\n\")\n",
        "\n",
        "# 4. Filtrar datos para obtener registros duplicados manteniendo la última aparición\n",
        "# duplicated() con keep='last' marca como True las repeticiones (excepto la última aparición)\n",
        "# Luego filtramos el DataFrame para mostrar solo los registros duplicados\n",
        "registros_duplicados_last = df[df.duplicated(keep='last')]\n",
        "\n",
        "# Mostrar los registros duplicados\n",
        "print(\"Registros con duplicidad exacta (keep='last'):\")\n",
        "print(registros_duplicados_last)\n",
        "print(\"\\n\")"
      ],
      "metadata": {
        "colab": {
          "base_uri": "https://localhost:8080/"
        },
        "id": "n5reR9bYVdAT",
        "outputId": "387387e4-071c-4981-8911-67ded784c824"
      },
      "execution_count": null,
      "outputs": [
        {
          "output_type": "stream",
          "name": "stdout",
          "text": [
            "Primeras 5 filas del DataFrame:\n",
            "   Duration          Date  Pulse  Maxpulse  Calories\n",
            "0        60  '2020/12/01'    110       130     409.1\n",
            "1        60  '2020/12/02'    117       145     479.0\n",
            "2        60  '2020/12/03'    103       135     340.0\n",
            "3        45  '2020/12/04'    109       175     282.4\n",
            "4        45  '2020/12/05'    117       148     406.0\n",
            "\n",
            "\n",
            "Número de registros con duplicidad exacta (todas las columnas): 1\n",
            "\n",
            "\n",
            "Registros con duplicidad exacta (keep='last'):\n",
            "    Duration          Date  Pulse  Maxpulse  Calories\n",
            "11        60  '2020/12/12'    100       120     250.7\n",
            "\n",
            "\n"
          ]
        }
      ]
    },
    {
      "cell_type": "markdown",
      "source": [
        "# **Ejercicio 04: Cálculo de la media con duplicados y sin duplicados**"
      ],
      "metadata": {
        "id": "pHE3wamtW1XP"
      }
    },
    {
      "cell_type": "markdown",
      "source": [
        "1.Carga el conjunto de datos dirty.csv y verifica que su carga sea correcta.\n",
        "\n",
        "2.Calcula e imprime la media de las columnas Pulse y MaxPulse\n",
        "\n",
        "3.Identifica los valores duplicados en las columnas Pulse y MaxPulse\n",
        "(Duplicidad Parcial) y elimina los registro repetidos. Quédate con las últimas ocurrencias\n",
        "\n",
        "4.Utiliza el conjunto anterior sin datos duplicados (recuerda que solo quedaron las últimas ocurrencias de los datos) y calcula la media de las columnas Pulse y MaxPulse"
      ],
      "metadata": {
        "id": "wsU_sjzFXACS"
      }
    },
    {
      "cell_type": "code",
      "source": [
        "# 1. Mostrar las primeras 5 filas del DataFrame para verificar la carga correcta\n",
        "print(\"Primeras 5 filas del DataFrame:\")\n",
        "print(df.head())\n",
        "print(\"\\n\")\n",
        "\n",
        "# 2. Calcular e imprimir la media de las columnas Pulse y MaxPulse\n",
        "# mean() calcula el promedio de los valores en cada columna\n",
        "media_pulse_original = df['Pulse'].mean()\n",
        "media_maxpulse_original = df['Maxpulse'].mean()\n",
        "\n",
        "print(\"Medias originales:\")\n",
        "print(f\"Media de Pulse: {media_pulse_original:.2f}\")\n",
        "print(f\"Media de Maxpulse: {media_maxpulse_original:.2f}\")\n",
        "print(\"\\n\")\n",
        "\n",
        "# 3. Identificar y eliminar valores duplicados en Pulse y MaxPulse, manteniendo las últimas ocurrencias\n",
        "# drop_duplicates() elimina duplicados, subset=['Pulse', 'Maxpulse'] para las columnas específicas\n",
        "# keep='last' mantiene la última aparición de cada duplicado\n",
        "df_sin_duplicados = df.drop_duplicates(subset=['Pulse', 'Maxpulse'], keep='last')\n",
        "\n",
        "# Mostrar información sobre el DataFrame después de eliminar duplicados\n",
        "print(\"Después de eliminar duplicados en Pulse y Maxpulse (manteniendo últimas ocurrencias):\")\n",
        "print(f\"Número de registros original: {len(df)}\")\n",
        "print(f\"Número de registros sin duplicados: {len(df_sin_duplicados)}\")\n",
        "print(f\"Registros eliminados: {len(df) - len(df_sin_duplicados)}\")\n",
        "print(\"\\n\")\n",
        "\n",
        "# 4. Calcular e imprimir la media de Pulse y MaxPulse en el conjunto sin duplicados\n",
        "media_pulse_sin_duplicados = df_sin_duplicados['Pulse'].mean()\n",
        "media_maxpulse_sin_duplicados = df_sin_duplicados['Maxpulse'].mean()\n",
        "\n",
        "print(\"Medias después de eliminar duplicados:\")\n",
        "print(f\"Media de Pulse: {media_pulse_sin_duplicados:.2f}\")\n",
        "print(f\"Media de Maxpulse: {media_maxpulse_sin_duplicados:.2f}\")\n",
        "print(\"\\n\")\n",
        "\n",
        "#Nota como es un conjunto de datos pequeño no varia mucho la diferencia de eliminar esos valores ademas de que no eran valores picos en los datos."
      ],
      "metadata": {
        "colab": {
          "base_uri": "https://localhost:8080/"
        },
        "id": "UMjxwgDnXd3G",
        "outputId": "cc87d994-9310-4672-8d92-6d84db5aec42"
      },
      "execution_count": null,
      "outputs": [
        {
          "output_type": "stream",
          "name": "stdout",
          "text": [
            "Primeras 5 filas del DataFrame:\n",
            "   Duration          Date  Pulse  Maxpulse  Calories\n",
            "0        60  '2020/12/01'    110       130     409.1\n",
            "1        60  '2020/12/02'    117       145     479.0\n",
            "2        60  '2020/12/03'    103       135     340.0\n",
            "3        45  '2020/12/04'    109       175     282.4\n",
            "4        45  '2020/12/05'    117       148     406.0\n",
            "\n",
            "\n",
            "Medias originales:\n",
            "Media de Pulse: 103.50\n",
            "Media de Maxpulse: 128.50\n",
            "\n",
            "\n",
            "Después de eliminar duplicados en Pulse y Maxpulse (manteniendo últimas ocurrencias):\n",
            "Número de registros original: 32\n",
            "Número de registros sin duplicados: 29\n",
            "Registros eliminados: 3\n",
            "\n",
            "\n",
            "Medias después de eliminar duplicados:\n",
            "Media de Pulse: 103.86\n",
            "Media de Maxpulse: 129.38\n",
            "\n",
            "\n"
          ]
        }
      ]
    }
  ]
}