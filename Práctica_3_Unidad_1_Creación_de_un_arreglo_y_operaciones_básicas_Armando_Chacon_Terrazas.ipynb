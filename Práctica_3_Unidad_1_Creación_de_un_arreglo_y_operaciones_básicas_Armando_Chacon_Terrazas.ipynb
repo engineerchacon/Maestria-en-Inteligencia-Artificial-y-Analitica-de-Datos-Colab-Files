{
  "nbformat": 4,
  "nbformat_minor": 0,
  "metadata": {
    "colab": {
      "provenance": [],
      "authorship_tag": "ABX9TyNnyQnQNAf6HWnDHxsyA+1U",
      "include_colab_link": true
    },
    "kernelspec": {
      "name": "python3",
      "display_name": "Python 3"
    },
    "language_info": {
      "name": "python"
    }
  },
  "cells": [
    {
      "cell_type": "markdown",
      "metadata": {
        "id": "view-in-github",
        "colab_type": "text"
      },
      "source": [
        "<a href=\"https://colab.research.google.com/github/engineerchacon/Maestria-en-Inteligencia-Artificial-y-Analitica-de-Datos-Colab-Files/blob/main/Pr%C3%A1ctica_3_Unidad_1_Creaci%C3%B3n_de_un_arreglo_y_operaciones_b%C3%A1sicas_Armando_Chacon_Terrazas.ipynb\" target=\"_parent\"><img src=\"https://colab.research.google.com/assets/colab-badge.svg\" alt=\"Open In Colab\"/></a>"
      ]
    },
    {
      "cell_type": "markdown",
      "source": [
        "# **Instrucciones:**"
      ],
      "metadata": {
        "id": "ze_rd2c9WnPj"
      }
    },
    {
      "cell_type": "markdown",
      "source": [
        "Creación de un arreglo y operaciones básicas.\n",
        "\n",
        "Crea un arreglo unidimensional de 20 elementos con valores aleatorios entre 1 y 100. Luego, realiza las siguientes operaciones:\n",
        "\n",
        "Encuentra el valor máximo del arreglo.\n",
        "\n",
        "Encuentra el valor mínimo del arreglo.\n",
        "\n",
        "Calcula la media del arreglo.\n",
        "\n",
        "Suma 10 a cada elemento del arreglo.\n",
        "\n",
        "No olvides enviar tu .ipynb"
      ],
      "metadata": {
        "id": "NufmqHgHWcTQ"
      }
    },
    {
      "cell_type": "code",
      "source": [
        "#Conexión a Google Drive\n",
        "from google.colab import drive\n",
        "drive.mount('/content/drive')"
      ],
      "metadata": {
        "colab": {
          "base_uri": "https://localhost:8080/"
        },
        "id": "aUzOM2BJWZAw",
        "outputId": "47970cd3-651c-4c63-f572-40dc290f9954"
      },
      "execution_count": 1,
      "outputs": [
        {
          "output_type": "stream",
          "name": "stdout",
          "text": [
            "Mounted at /content/drive\n"
          ]
        }
      ]
    },
    {
      "cell_type": "markdown",
      "source": [
        "## **Importamos la biblioteca NumPy**"
      ],
      "metadata": {
        "id": "inIeerKXW69l"
      }
    },
    {
      "cell_type": "code",
      "source": [
        "import numpy as np"
      ],
      "metadata": {
        "id": "NniV16SHW517"
      },
      "execution_count": 2,
      "outputs": []
    },
    {
      "cell_type": "markdown",
      "source": [
        "# **Creación del arreglo aleatorio**"
      ],
      "metadata": {
        "id": "_3WmxWnqXurq"
      }
    },
    {
      "cell_type": "code",
      "source": [
        "# Creamos un arreglo de 20 elementos con valores enteros aleatorios entre 1 y 100 se usa np.random.randint()\n",
        "# En donde los parámetros son: (valor mínimo, valor máximo + 1, cantidad de elementos)\n",
        "arreglo = np.random.randint(1, 101, 20)"
      ],
      "metadata": {
        "id": "RMk8LoV6XxGF"
      },
      "execution_count": 3,
      "outputs": []
    },
    {
      "cell_type": "markdown",
      "source": [
        "# **Mostrar arreglo original**"
      ],
      "metadata": {
        "id": "g3pFZKPgYaFk"
      }
    },
    {
      "cell_type": "code",
      "source": [
        "print(\"Arreglo original:\")\n",
        "print(arreglo)\n",
        "print()"
      ],
      "metadata": {
        "colab": {
          "base_uri": "https://localhost:8080/"
        },
        "id": "_q3x_DAYYhEM",
        "outputId": "4e69bf1c-af33-43de-db82-34b15cd525e3"
      },
      "execution_count": 4,
      "outputs": [
        {
          "output_type": "stream",
          "name": "stdout",
          "text": [
            "Arreglo original:\n",
            "[15 70 41 83 36 39 51 29  2 75 27 85 85 99 30 11 44 94 27 72]\n",
            "\n"
          ]
        }
      ]
    },
    {
      "cell_type": "markdown",
      "source": [
        "# **Calculamos valor máximo del arreglo**"
      ],
      "metadata": {
        "id": "QIbBBHf7YtGV"
      }
    },
    {
      "cell_type": "code",
      "source": [
        "maximo = np.max(arreglo)\n",
        "print(f\"El valor máximo del arreglo es: {maximo}\")"
      ],
      "metadata": {
        "colab": {
          "base_uri": "https://localhost:8080/"
        },
        "id": "YDclGfExY9Q1",
        "outputId": "84c3261d-3bcb-4eb2-93b3-277fd08d5cfc"
      },
      "execution_count": 5,
      "outputs": [
        {
          "output_type": "stream",
          "name": "stdout",
          "text": [
            "El valor máximo del arreglo es: 99\n"
          ]
        }
      ]
    },
    {
      "cell_type": "markdown",
      "source": [
        "# **Calculamos valor mínimo del arreglo**"
      ],
      "metadata": {
        "id": "uBZoxGnfZZdk"
      }
    },
    {
      "cell_type": "code",
      "source": [
        "minimo = np.min(arreglo)\n",
        "print(f\"El valor mínimo del arreglo es: {minimo}\")"
      ],
      "metadata": {
        "colab": {
          "base_uri": "https://localhost:8080/"
        },
        "id": "7jLQdwKdZksL",
        "outputId": "5ad64d76-a953-401d-b90e-f7bfe7a9357d"
      },
      "execution_count": 6,
      "outputs": [
        {
          "output_type": "stream",
          "name": "stdout",
          "text": [
            "El valor mínimo del arreglo es: 2\n"
          ]
        }
      ]
    },
    {
      "cell_type": "markdown",
      "source": [
        "# **Calculamos la media del arreglo**"
      ],
      "metadata": {
        "id": "6C92mR6zZrJW"
      }
    },
    {
      "cell_type": "code",
      "source": [
        "media = np.mean(arreglo)\n",
        "#:.2f Para mostrar solo 2 decimales\n",
        "print(f\"La media del arreglo es: {media:.2f}\")"
      ],
      "metadata": {
        "colab": {
          "base_uri": "https://localhost:8080/"
        },
        "id": "pN2QtSyWZwiC",
        "outputId": "81db83e5-1f35-46b0-d191-ac8d0bf137b9"
      },
      "execution_count": 7,
      "outputs": [
        {
          "output_type": "stream",
          "name": "stdout",
          "text": [
            "La media del arreglo es: 50.75\n"
          ]
        }
      ]
    },
    {
      "cell_type": "markdown",
      "source": [
        "# **Suma 10 a cada elemento del arreglo.**"
      ],
      "metadata": {
        "id": "5NgqAgbwaoPI"
      }
    },
    {
      "cell_type": "code",
      "source": [
        "arreglo_10 = arreglo + 10\n",
        "print(\"Arreglo después de sumar 10 a cada elemento:\")\n",
        "print(arreglo_10)"
      ],
      "metadata": {
        "colab": {
          "base_uri": "https://localhost:8080/"
        },
        "id": "ElUvhvHXa68-",
        "outputId": "a6313942-b4be-44a7-9d59-9b0140d6ebc4"
      },
      "execution_count": 8,
      "outputs": [
        {
          "output_type": "stream",
          "name": "stdout",
          "text": [
            "Arreglo después de sumar 10 a cada elemento:\n",
            "[ 25  80  51  93  46  49  61  39  12  85  37  95  95 109  40  21  54 104\n",
            "  37  82]\n"
          ]
        }
      ]
    }
  ]
}