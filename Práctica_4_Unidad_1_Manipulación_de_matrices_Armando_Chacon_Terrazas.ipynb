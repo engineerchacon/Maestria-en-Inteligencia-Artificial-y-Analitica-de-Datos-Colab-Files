{
  "nbformat": 4,
  "nbformat_minor": 0,
  "metadata": {
    "colab": {
      "provenance": [],
      "authorship_tag": "ABX9TyMAWRRzTbiryYEESS5ODiNj",
      "include_colab_link": true
    },
    "kernelspec": {
      "name": "python3",
      "display_name": "Python 3"
    },
    "language_info": {
      "name": "python"
    }
  },
  "cells": [
    {
      "cell_type": "markdown",
      "metadata": {
        "id": "view-in-github",
        "colab_type": "text"
      },
      "source": [
        "<a href=\"https://colab.research.google.com/github/engineerchacon/Maestria-en-Inteligencia-Artificial-y-Analitica-de-Datos-Colab-Files/blob/main/Pr%C3%A1ctica_4_Unidad_1_Manipulaci%C3%B3n_de_matrices_Armando_Chacon_Terrazas.ipynb\" target=\"_parent\"><img src=\"https://colab.research.google.com/assets/colab-badge.svg\" alt=\"Open In Colab\"/></a>"
      ]
    },
    {
      "cell_type": "markdown",
      "source": [
        "# **Instrucciones:**"
      ],
      "metadata": {
        "id": "ze_rd2c9WnPj"
      }
    },
    {
      "cell_type": "markdown",
      "source": [
        "Manipulación de matrices.\n",
        "\n",
        "Crea dos matrices de 3x3 con números aleatorios entre 1 y 10. Realiza las siguientes operaciones:\n",
        "\n",
        "1-Suma ambas matrices.\n",
        "2-Resta la segunda matriz de la primera.\n",
        "3-Multiplica la primera matriz por 2.\n",
        "4-Realiza una multiplicación matricial entre las dos matrices."
      ],
      "metadata": {
        "id": "cDwEdvV0gsxq"
      }
    },
    {
      "cell_type": "markdown",
      "source": [
        "# **Conexión  a Google Drive**"
      ],
      "metadata": {
        "id": "20YCcv54g9r4"
      }
    },
    {
      "cell_type": "code",
      "source": [
        "#Conexión a Google Drive\n",
        "from google.colab import drive\n",
        "drive.mount('/content/drive')"
      ],
      "metadata": {
        "colab": {
          "base_uri": "https://localhost:8080/"
        },
        "id": "aUzOM2BJWZAw",
        "outputId": "1a09ff9f-5f58-4f68-cc56-a11a85cefd5c"
      },
      "execution_count": 1,
      "outputs": [
        {
          "output_type": "stream",
          "name": "stdout",
          "text": [
            "Mounted at /content/drive\n"
          ]
        }
      ]
    },
    {
      "cell_type": "markdown",
      "source": [
        "## **Importamos la biblioteca NumPy**"
      ],
      "metadata": {
        "id": "inIeerKXW69l"
      }
    },
    {
      "cell_type": "code",
      "source": [
        "import numpy as np"
      ],
      "metadata": {
        "id": "NniV16SHW517"
      },
      "execution_count": 2,
      "outputs": []
    },
    {
      "cell_type": "markdown",
      "source": [
        "# **Crear matriz 1**"
      ],
      "metadata": {
        "id": "DELcdxCphna9"
      }
    },
    {
      "cell_type": "code",
      "source": [
        "# Crear matriz 3x3 con valores aleatorios entre 1 y 10 usando np.random.randint\n",
        "matriz1 = np.random.randint(1, 11, (3, 3))\n",
        "print(\"Matriz 1:\")\n",
        "print(matriz1)"
      ],
      "metadata": {
        "colab": {
          "base_uri": "https://localhost:8080/"
        },
        "id": "aqXLYTxThrIv",
        "outputId": "d216f921-2e7b-49a3-cbfc-fde7cedb3c5e"
      },
      "execution_count": 5,
      "outputs": [
        {
          "output_type": "stream",
          "name": "stdout",
          "text": [
            "Matriz 1:\n",
            "[[ 3  4  8]\n",
            " [ 1  2  9]\n",
            " [ 7 10  2]]\n"
          ]
        }
      ]
    },
    {
      "cell_type": "markdown",
      "source": [
        "# **Crear matriz 2**"
      ],
      "metadata": {
        "id": "8EslNE3WiX0_"
      }
    },
    {
      "cell_type": "code",
      "source": [
        "# Crear matriz 3x3 con valores aleatorios entre 1 y 10 usando np.random.randint\n",
        "matriz2 = np.random.randint(1, 11, (3, 3))\n",
        "print(\"Matriz 2:\")\n",
        "print(matriz2)"
      ],
      "metadata": {
        "colab": {
          "base_uri": "https://localhost:8080/"
        },
        "outputId": "a634e6c9-dac3-4365-cfcb-19da07df0f23",
        "id": "Lv-BWS31ifvN"
      },
      "execution_count": 6,
      "outputs": [
        {
          "output_type": "stream",
          "name": "stdout",
          "text": [
            "Matriz 2:\n",
            "[[ 9  3  6]\n",
            " [ 6  1  4]\n",
            " [ 1 10 10]]\n"
          ]
        }
      ]
    },
    {
      "cell_type": "markdown",
      "source": [
        "# **Suma ambas matrices**"
      ],
      "metadata": {
        "id": "mGV0Urofited"
      }
    },
    {
      "cell_type": "code",
      "source": [
        "sumar = matriz1 + matriz2\n",
        "print(\"\\nSuma de matrices:\")\n",
        "print(sumar)"
      ],
      "metadata": {
        "colab": {
          "base_uri": "https://localhost:8080/"
        },
        "id": "YWTJC4_ciu46",
        "outputId": "0200f98c-1bd2-478a-bf8c-361d3b2e810f"
      },
      "execution_count": 7,
      "outputs": [
        {
          "output_type": "stream",
          "name": "stdout",
          "text": [
            "\n",
            "Suma de matrices:\n",
            "[[12  7 14]\n",
            " [ 7  3 13]\n",
            " [ 8 20 12]]\n"
          ]
        }
      ]
    },
    {
      "cell_type": "markdown",
      "source": [
        "# **Resta la segunda matriz de la primera.**"
      ],
      "metadata": {
        "id": "PPSzgsori66H"
      }
    },
    {
      "cell_type": "code",
      "source": [
        "restar = matriz1 - matriz2\n",
        "print(\"\\nResta (Matriz 1 - Matriz 2):\")\n",
        "print(restar)"
      ],
      "metadata": {
        "colab": {
          "base_uri": "https://localhost:8080/"
        },
        "id": "SyrNDUjRi98m",
        "outputId": "9006d138-253b-4607-a13d-3731cdc5bacb"
      },
      "execution_count": 13,
      "outputs": [
        {
          "output_type": "stream",
          "name": "stdout",
          "text": [
            "\n",
            "Resta (Matriz 1 - Matriz 2):\n",
            "[[-6  1  2]\n",
            " [-5  1  5]\n",
            " [ 6  0 -8]]\n"
          ]
        }
      ]
    },
    {
      "cell_type": "markdown",
      "source": [
        "# **Multiplica la primera matriz por 2**"
      ],
      "metadata": {
        "id": "EGWcXYVPjSYO"
      }
    },
    {
      "cell_type": "code",
      "source": [
        "multiplicacion = matriz1 * 2\n",
        "print(\"\\nMatriz 1 multiplicada por 2:\")\n",
        "print(multiplicacion)"
      ],
      "metadata": {
        "colab": {
          "base_uri": "https://localhost:8080/"
        },
        "id": "HR3IJXBVjVfm",
        "outputId": "00e4a5b1-fbdf-40ec-87ec-18e89d6ddd63"
      },
      "execution_count": 12,
      "outputs": [
        {
          "output_type": "stream",
          "name": "stdout",
          "text": [
            "\n",
            "Matriz 1 multiplicada por 2:\n",
            "[[ 6  8 16]\n",
            " [ 2  4 18]\n",
            " [14 20  4]]\n"
          ]
        }
      ]
    },
    {
      "cell_type": "markdown",
      "source": [
        "# **Multiplicación matricial entre las dos matrices**"
      ],
      "metadata": {
        "id": "qXTtxmQUjt1M"
      }
    },
    {
      "cell_type": "code",
      "source": [
        "mult_matricial = np.dot(matriz1, matriz2)\n",
        "print(\"\\nMultiplicación matricial (Matriz 1 x Matriz 2):\")\n",
        "print(mult_matricial)"
      ],
      "metadata": {
        "colab": {
          "base_uri": "https://localhost:8080/"
        },
        "id": "yD9Ms9onjx7k",
        "outputId": "f36ff914-a7a3-4574-d081-74d6c34e16d4"
      },
      "execution_count": 14,
      "outputs": [
        {
          "output_type": "stream",
          "name": "stdout",
          "text": [
            "\n",
            "Multiplicación matricial (Matriz 1 x Matriz 2):\n",
            "[[ 59  93 114]\n",
            " [ 30  95 104]\n",
            " [125  51 102]]\n"
          ]
        }
      ]
    }
  ]
}