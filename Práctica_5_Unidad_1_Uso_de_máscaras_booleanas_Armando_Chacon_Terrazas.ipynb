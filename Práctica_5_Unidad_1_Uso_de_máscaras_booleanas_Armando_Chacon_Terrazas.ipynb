{
  "nbformat": 4,
  "nbformat_minor": 0,
  "metadata": {
    "colab": {
      "provenance": [],
      "authorship_tag": "ABX9TyP2JDRuJ2HSkl0izbfqGrsj",
      "include_colab_link": true
    },
    "kernelspec": {
      "name": "python3",
      "display_name": "Python 3"
    },
    "language_info": {
      "name": "python"
    }
  },
  "cells": [
    {
      "cell_type": "markdown",
      "metadata": {
        "id": "view-in-github",
        "colab_type": "text"
      },
      "source": [
        "<a href=\"https://colab.research.google.com/github/engineerchacon/Maestria-en-Inteligencia-Artificial-y-Analitica-de-Datos-Colab-Files/blob/main/Pr%C3%A1ctica_5_Unidad_1_Uso_de_m%C3%A1scaras_booleanas_Armando_Chacon_Terrazas.ipynb\" target=\"_parent\"><img src=\"https://colab.research.google.com/assets/colab-badge.svg\" alt=\"Open In Colab\"/></a>"
      ]
    },
    {
      "cell_type": "markdown",
      "source": [
        "# **Instrucciones:**"
      ],
      "metadata": {
        "id": "ze_rd2c9WnPj"
      }
    },
    {
      "cell_type": "markdown",
      "source": [
        "Uso de máscaras booleanas.\n",
        "\n",
        "Crea un arreglo unidimensional con 15 números aleatorios entre 1 y 50. Luego:\n",
        "\n",
        "Selecciona los elementos mayores que 25 utilizando una máscara booleana.\n",
        "Cuenta cuántos elementos son mayores que 25.\n",
        "\n",
        "\n",
        "No olvides enviar tu .ipynb"
      ],
      "metadata": {
        "id": "cDwEdvV0gsxq"
      }
    },
    {
      "cell_type": "markdown",
      "source": [
        "# **Conexión  a Google Drive**"
      ],
      "metadata": {
        "id": "20YCcv54g9r4"
      }
    },
    {
      "cell_type": "code",
      "source": [
        "#Conexión a Google Drive\n",
        "from google.colab import drive\n",
        "drive.mount('/content/drive')"
      ],
      "metadata": {
        "colab": {
          "base_uri": "https://localhost:8080/"
        },
        "id": "aUzOM2BJWZAw",
        "outputId": "e1b6b775-5382-4943-d505-25a0a926de0c"
      },
      "execution_count": 1,
      "outputs": [
        {
          "output_type": "stream",
          "name": "stdout",
          "text": [
            "Mounted at /content/drive\n"
          ]
        }
      ]
    },
    {
      "cell_type": "markdown",
      "source": [
        "## **Importamos la biblioteca NumPy**"
      ],
      "metadata": {
        "id": "inIeerKXW69l"
      }
    },
    {
      "cell_type": "code",
      "source": [
        "import numpy as np"
      ],
      "metadata": {
        "id": "NniV16SHW517"
      },
      "execution_count": 2,
      "outputs": []
    },
    {
      "cell_type": "markdown",
      "source": [
        "# **Crear arreglo unidimensional con 15 números aleatorios entre 1 y 50**"
      ],
      "metadata": {
        "id": "Kn1b4ChznJpP"
      }
    },
    {
      "cell_type": "code",
      "source": [
        "#No se incluye al 51, se guarda en la variable arreglo\n",
        "arreglo = np.random.randint(1, 51, 15)\n",
        "print(\"Arreglo Unidemensional:\")\n",
        "print(arreglo)"
      ],
      "metadata": {
        "colab": {
          "base_uri": "https://localhost:8080/"
        },
        "id": "rtI5Qe9OnV-c",
        "outputId": "dc9fa453-839c-4d66-ef89-adbaf5effb5c"
      },
      "execution_count": 3,
      "outputs": [
        {
          "output_type": "stream",
          "name": "stdout",
          "text": [
            "Arreglo Unidemensional:\n",
            "[18 26 40 36 39  2 30 16 14 29  8  5 13 29 49]\n"
          ]
        }
      ]
    },
    {
      "cell_type": "markdown",
      "source": [
        "# **Usar mascara booleana**"
      ],
      "metadata": {
        "id": "_HyUx31QnqdG"
      }
    },
    {
      "cell_type": "code",
      "source": [
        "print(\"Elementos mayores a 25:\", arreglo[arreglo > 25])"
      ],
      "metadata": {
        "colab": {
          "base_uri": "https://localhost:8080/"
        },
        "id": "81lBTXbWoNFV",
        "outputId": "ad59594e-3c00-4bfd-8647-8ac0e981eb5a"
      },
      "execution_count": 4,
      "outputs": [
        {
          "output_type": "stream",
          "name": "stdout",
          "text": [
            "Elementos mayores a 25: [26 40 36 39 30 29 29 49]\n"
          ]
        }
      ]
    },
    {
      "cell_type": "markdown",
      "source": [
        "# **Sumar los elementos**"
      ],
      "metadata": {
        "id": "0gI6lvYao0b1"
      }
    },
    {
      "cell_type": "code",
      "source": [
        "print(\"Total de elementos mayores a 25:\", np.sum(arreglo > 25))"
      ],
      "metadata": {
        "colab": {
          "base_uri": "https://localhost:8080/"
        },
        "id": "8gH1P0B_pFBA",
        "outputId": "c089667d-3b5b-4ed6-afc3-52ee8a43da4e"
      },
      "execution_count": 5,
      "outputs": [
        {
          "output_type": "stream",
          "name": "stdout",
          "text": [
            "Total de elementos mayores a 25: 8\n"
          ]
        }
      ]
    }
  ]
}