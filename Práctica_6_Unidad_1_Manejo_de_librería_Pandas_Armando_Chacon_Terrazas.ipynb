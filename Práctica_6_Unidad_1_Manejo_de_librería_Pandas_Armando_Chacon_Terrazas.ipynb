{
  "nbformat": 4,
  "nbformat_minor": 0,
  "metadata": {
    "colab": {
      "provenance": [],
      "authorship_tag": "ABX9TyNlrzDA8z7RZ6E20+sALMZY",
      "include_colab_link": true
    },
    "kernelspec": {
      "name": "python3",
      "display_name": "Python 3"
    },
    "language_info": {
      "name": "python"
    }
  },
  "cells": [
    {
      "cell_type": "markdown",
      "metadata": {
        "id": "view-in-github",
        "colab_type": "text"
      },
      "source": [
        "<a href=\"https://colab.research.google.com/github/engineerchacon/Maestria-en-Inteligencia-Artificial-y-Analitica-de-Datos-Colab-Files/blob/main/Pr%C3%A1ctica_6_Unidad_1_Manejo_de_librer%C3%ADa_Pandas_Armando_Chacon_Terrazas.ipynb\" target=\"_parent\"><img src=\"https://colab.research.google.com/assets/colab-badge.svg\" alt=\"Open In Colab\"/></a>"
      ]
    },
    {
      "cell_type": "markdown",
      "source": [
        "# **Instrucciones:**"
      ],
      "metadata": {
        "id": "ze_rd2c9WnPj"
      }
    },
    {
      "cell_type": "markdown",
      "source": [
        "Instrucciones: Carga el archivo titanic.csv en la carpeta correspondiente de Google drive para realizar los siguientes ejercicios:\n",
        "\n",
        "**Ejercicio 1:** Análisis de la distribución de supervivencia por combinación de sexo y clase del pasajero.\n",
        "\n",
        "Calcula la proporción de supervivencia para cada combinación de 'Sex' y 'Pclass'.\n",
        " Identifica qué combinación tuvo la tasa de supervivencia más alta.\n",
        "Identifica qué combinación tuvo la tasa de supervivencia más baja.\n",
        "\n",
        "**Ejercicio 2:** Identificación de familias grandes a bordo.\n",
        "\n",
        "Crea una nueva columna 'FamilySize' sumando las columnas 'SibSp' y 'Parch'.\n",
        "Considera como \"familia grande\" a aquellas donde 'FamilySize' es mayor a 3.\n",
        "Calcula el número de pasajeros en familias grandes.\n",
        "Calcula la proporción de supervivencia entre los pasajeros que pertenecen a familias grandes.\n",
        "\n",
        "**Ejercicio 3**: Segmentación por grupos de edad.\n",
        "\n",
        "Clasifica a los pasajeros en las siguientes categorías de edad(tip puede resultar mas sencillo realizarlo con una función):  menor de edad (< 18) y mayor de edad (>=18)\n",
        "\n",
        "**Ejercicio 4:** Comparación entre promedios calculados manualmente y con Pandas\n",
        "\n",
        "Utiliza NumPy para calcular el promedio de las columnas 'Age' y 'Fare', ignorando valores nulos.\n",
        "Compara estos valores con los promedios obtenidos utilizando los métodos nativos de Pandas.\n",
        "Verifica que los resultados sean consistentes.\n",
        "\n",
        "**Ejercicio 5.** Creación de intervalos de clase usando NumPy y análisis con Pandas\n",
        "\n",
        "Divide la columna 'Fare' en 5 intervalos equidistantes utilizando la función numpy.linspace, el estudiante deberá investigar la operación de esta función en python.\n",
        "Crea una nueva columna en el DataFrame que asigne a cada pasajero el intervalo correspondiente de su tarifa.\n",
        "Calcula el número de pasajeros en cada intervalo utilizando Pandas y la proporción de supervivientes por intervalo.\n",
        "No olvides enviar tu .ipynb"
      ],
      "metadata": {
        "id": "cDwEdvV0gsxq"
      }
    },
    {
      "cell_type": "markdown",
      "source": [
        "# **Conexión  a Google Drive**"
      ],
      "metadata": {
        "id": "20YCcv54g9r4"
      }
    },
    {
      "cell_type": "code",
      "source": [
        "#Conexión a Google Drive\n",
        "from google.colab import drive\n",
        "drive.mount('/content/drive')"
      ],
      "metadata": {
        "colab": {
          "base_uri": "https://localhost:8080/"
        },
        "id": "aUzOM2BJWZAw",
        "outputId": "ce95b6cb-bf0c-457e-9d66-9a2474291a33"
      },
      "execution_count": 2,
      "outputs": [
        {
          "output_type": "stream",
          "name": "stdout",
          "text": [
            "Mounted at /content/drive\n"
          ]
        }
      ]
    },
    {
      "cell_type": "markdown",
      "source": [
        "# **Importar las bibliotecas pandas y numpy**"
      ],
      "metadata": {
        "id": "mDMaIe3k4SEF"
      }
    },
    {
      "cell_type": "code",
      "source": [
        "import pandas as pd\n",
        "import numpy as np #sin alias para poder usar numpy.linspace Ejercicio #5"
      ],
      "metadata": {
        "id": "IXGB37Xp4p5Z"
      },
      "execution_count": 22,
      "outputs": []
    },
    {
      "cell_type": "markdown",
      "source": [
        "## **Cargar el archivo titanic.csv**"
      ],
      "metadata": {
        "id": "mCLKSBjh4swc"
      }
    },
    {
      "cell_type": "code",
      "source": [
        "titanic = pd.read_csv('/content/drive/MyDrive/ClassFiles/Titanic-Dataset.csv')"
      ],
      "metadata": {
        "id": "_QXhAphP42vD"
      },
      "execution_count": 17,
      "outputs": []
    },
    {
      "cell_type": "markdown",
      "source": [
        "# ***EJERCICIO 1:***"
      ],
      "metadata": {
        "id": "lGNtychg6W5V"
      }
    },
    {
      "cell_type": "markdown",
      "source": [
        "# **Calcula la proporción de supervivencia para cada combinación de 'Sex' y 'Pclass'.**"
      ],
      "metadata": {
        "id": "X0jKYvuQ5RmK"
      }
    },
    {
      "cell_type": "code",
      "source": [
        "# Queremos saber qué grupos (sexo + clase) vivieron más\n",
        "# Primero agrupamos los datos por sexo y clase\n",
        "grupos = titanic.groupby(['Sex', 'Pclass'])\n",
        "\n",
        "# Calculamos el promedio de supervivencia para cada grupo\n",
        "# (En la columna 'Survived', 1 = vivió, 0 = no vivió)\n",
        "porcentaje_vivir = grupos['Survived'].mean()\n",
        "\n",
        "# reset_index() convierte los resultados en una tabla más fácil de leer\n",
        "# Sin esto, los resultados se ven más complicados\n",
        "tabla_resultados = porcentaje_vivir.reset_index()\n",
        "\n",
        "print(\"\\nProporción de supervivencia para cada combinación de 'Sex' y 'Pclass':\")\n",
        "print(tabla_resultados)\n",
        "\n",
        "# Encontramos el grupo con mejor y peor porcentaje\n",
        "# idxmax() nos da la posición del valor más alto\n",
        "mejor_posicion = tabla_resultados['Survived'].idxmax()\n",
        "mejor_grupo = tabla_resultados.loc[mejor_posicion]\n",
        "\n",
        "# idxmin() nos da la posición del valor más bajo\n",
        "peor_posicion = tabla_resultados['Survived'].idxmin()\n",
        "peor_grupo = tabla_resultados.loc[peor_posicion]\n",
        "\n",
        "print(\"\\nCombinación tuvo la tasa de supervivencia más alta:\")\n",
        "print(f\"Sexo: {mejor_grupo['Sex']}, Clase: {mejor_grupo['Pclass']}, Porcentaje: {mejor_grupo['Survived']:.1%}\")\n",
        "\n",
        "print(\"\\nCombinación tuvo la tasa de supervivencia más baja:\")\n",
        "print(f\"Sexo: {peor_grupo['Sex']}, Clase: {peor_grupo['Pclass']}, Porcentaje: {peor_grupo['Survived']:.1%}\")"
      ],
      "metadata": {
        "colab": {
          "base_uri": "https://localhost:8080/"
        },
        "id": "OhGHX8Je5cNu",
        "outputId": "20e0f0cf-5635-41cb-93e6-be62b99e4fa2"
      },
      "execution_count": 5,
      "outputs": [
        {
          "output_type": "stream",
          "name": "stdout",
          "text": [
            "\n",
            "Proporción de supervivencia para cada combinación de 'Sex' y 'Pclass':\n",
            "      Sex  Pclass  Survived\n",
            "0  female       1  0.968085\n",
            "1  female       2  0.921053\n",
            "2  female       3  0.500000\n",
            "3    male       1  0.368852\n",
            "4    male       2  0.157407\n",
            "5    male       3  0.135447\n",
            "\n",
            "Combinación tuvo la tasa de supervivencia más alta:\n",
            "Sexo: female, Clase: 1, Porcentaje: 96.8%\n",
            "\n",
            "Combinación tuvo la tasa de supervivencia más baja:\n",
            "Sexo: male, Clase: 3, Porcentaje: 13.5%\n"
          ]
        }
      ]
    },
    {
      "cell_type": "markdown",
      "source": [
        "# ***EJERCICIO 2:***"
      ],
      "metadata": {
        "id": "eDPBqeRD9F4p"
      }
    },
    {
      "cell_type": "markdown",
      "source": [
        "# **Identificación de familias grandes a bordo**"
      ],
      "metadata": {
        "id": "1EOPPcFV_bzR"
      }
    },
    {
      "cell_type": "code",
      "source": [
        "#Crear columna FamilySize\n",
        "titanic['FamilySize'] = titanic['SibSp'] + titanic['Parch']\n",
        "\n",
        "#Filtrar familias grandes (FamilySize > 3)\n",
        "familias_grandes = titanic[titanic['FamilySize'] > 3]\n",
        "\n",
        "#Mostrar solo las columnas requeridas\n",
        "print(\"\\nDatos de Familia grande (se considera si SibSp y Parch es mayor a 3) dentro de FamilySize:\")\n",
        "#Se borra la columna que integra por default panda con .to_string(index=False)\n",
        "print(familias_grandes[['SibSp', 'Parch', 'FamilySize']].to_string(index=False))\n",
        "\n",
        "#Calcular resultados\n",
        "print(\"\\nResultados:\")\n",
        "#Contamos los pasajeros en familias grandes\n",
        "print(f\"Total pasajeros en familias grandes: {len(familias_grandes)}\")\n",
        "#Ya con esto lo podemos comparar con la tabla de si sobrevivieron 1 y 0\n",
        "print(f\"Proporción de supervivencia entre los pasajeros que pertenecen a familias grandes: {familias_grandes['Survived'].mean():.2%}\")"
      ],
      "metadata": {
        "colab": {
          "base_uri": "https://localhost:8080/"
        },
        "id": "JvEbknxm_H6h",
        "outputId": "cbef7f8d-7b55-4923-c239-53bea7905a08"
      },
      "execution_count": 18,
      "outputs": [
        {
          "output_type": "stream",
          "name": "stdout",
          "text": [
            "\n",
            "Datos de Familia grande (se considera si SibSp y Parch es mayor a 3) dentro de FamilySize:\n",
            " SibSp  Parch  FamilySize\n",
            "     3      1           4\n",
            "     1      5           6\n",
            "     4      1           5\n",
            "     3      1           4\n",
            "     1      5           6\n",
            "     3      2           5\n",
            "     4      1           5\n",
            "     5      2           7\n",
            "     3      2           5\n",
            "     4      2           6\n",
            "     5      2           7\n",
            "     1      3           4\n",
            "     3      2           5\n",
            "     4      2           6\n",
            "     2      2           4\n",
            "     8      2          10\n",
            "     4      1           5\n",
            "     1      4           5\n",
            "     4      1           5\n",
            "     3      1           4\n",
            "     8      2          10\n",
            "     4      2           6\n",
            "     8      2          10\n",
            "     3      1           4\n",
            "     4      2           6\n",
            "     4      2           6\n",
            "     4      1           5\n",
            "     4      1           5\n",
            "     2      2           4\n",
            "     8      2          10\n",
            "     3      2           5\n",
            "     1      4           5\n",
            "     3      1           4\n",
            "     5      2           7\n",
            "     3      1           4\n",
            "     2      2           4\n",
            "     2      3           5\n",
            "     1      4           5\n",
            "     5      2           7\n",
            "     3      1           4\n",
            "     4      2           6\n",
            "     4      2           6\n",
            "     0      4           4\n",
            "     1      5           6\n",
            "     3      2           5\n",
            "     0      5           5\n",
            "     3      2           5\n",
            "     1      6           7\n",
            "     5      2           7\n",
            "     4      1           5\n",
            "     1      3           4\n",
            "     2      2           4\n",
            "     1      3           4\n",
            "     4      1           5\n",
            "     8      2          10\n",
            "     4      2           6\n",
            "     3      2           5\n",
            "     4      1           5\n",
            "     8      2          10\n",
            "     4      2           6\n",
            "     8      2          10\n",
            "     0      5           5\n",
            "\n",
            "Resultados:\n",
            "Total pasajeros en familias grandes: 62\n",
            "Proporción de supervivencia entre los pasajeros que pertenecen a familias grandes: 16.13%\n"
          ]
        }
      ]
    },
    {
      "cell_type": "markdown",
      "source": [
        "# ***EJERCICIO 3:***"
      ],
      "metadata": {
        "id": "O9aBUWhnIV09"
      }
    },
    {
      "cell_type": "markdown",
      "source": [
        "# **Segmentación por grupos de edad**"
      ],
      "metadata": {
        "id": "9cI4BlcCIVSX"
      }
    },
    {
      "cell_type": "code",
      "source": [
        "#Definimos una función para clasificar la edad\n",
        "def clasificar_pasajeros(edad):\n",
        "\n",
        "    if pd.isna(edad):  # Verifica si la edad es desconocida, pd.isna() para detectar valores faltantes\n",
        "        return \"Edad desconocida\"\n",
        "    elif edad >= 18:\n",
        "        return \"Mayor o igual a 18\"\n",
        "    else:\n",
        "        return \"Menor de 18\"\n",
        "\n",
        "# Aplicamos la función a la columna Age, .apply() para aplicar funciones a columnas\n",
        "titanic['GrupoEdad'] = titanic['Age'].apply(clasificar_pasajeros)\n",
        "\n",
        "# Contamos la cantidad en cada categoría, value_counts() para contar valores únicos\n",
        "conteo_edades = titanic['GrupoEdad'].value_counts()\n",
        "\n",
        "# Mostramos resultados\n",
        "print(\"\\nCantidad de pasajeros por grupo de edad:\")\n",
        "print(f\"- Mayor o igual a 18 años: {conteo_edades.get('Mayor o igual a 18', 0)}\")\n",
        "print(f\"- Menor de 18 años: {conteo_edades.get('Menor de 18', 0)}\")\n",
        "print(f\"- Edad desconocida: {conteo_edades.get('Edad desconocida', 0)}\")"
      ],
      "metadata": {
        "colab": {
          "base_uri": "https://localhost:8080/"
        },
        "id": "YFY5370wIj6y",
        "outputId": "1f112b57-e17e-49cf-ee31-98b68f73e7df"
      },
      "execution_count": 19,
      "outputs": [
        {
          "output_type": "stream",
          "name": "stdout",
          "text": [
            "\n",
            "Cantidad de pasajeros por grupo de edad:\n",
            "- Mayor o igual a 18 años: 601\n",
            "- Menor de 18 años: 113\n",
            "- Edad desconocida: 177\n"
          ]
        }
      ]
    },
    {
      "cell_type": "markdown",
      "source": [
        "# ***EJERCICIO 4:***"
      ],
      "metadata": {
        "id": "C-RGByV0NpVm"
      }
    },
    {
      "cell_type": "markdown",
      "source": [
        "# **Comparación entre promedios calculados manualmente y con Pandas**"
      ],
      "metadata": {
        "id": "1nLTFjL0NtEV"
      }
    },
    {
      "cell_type": "code",
      "source": [
        "#Cálculo con NumPy, np.nanmean() para ignorar valores faltantes\n",
        "promedio_age_np = np.nanmean(titanic['Age'])\n",
        "promedio_fare_np = np.nanmean(titanic['Fare'])\n",
        "\n",
        "#Cálculo con Pandas, .mean() que también ignora NaN por defecto\n",
        "promedio_age_pd = titanic['Age'].mean()\n",
        "promedio_fare_pd = titanic['Fare'].mean()\n",
        "\n",
        "#Mostrar resultados\n",
        "print(\"\\nPromedio de la columna Age:\")\n",
        "print(f\"NumPy: {promedio_age_np:.1f} años\")\n",
        "print(f\"Pandas: {promedio_age_pd:.1f} años\")\n",
        "\n",
        "print(\"\\nPromedio de la columna Fare:\")\n",
        "print(f\"NumPy: {promedio_fare_np:.2f}\")\n",
        "print(f\"Pandas: {promedio_fare_pd:.2f}\")\n",
        "\n",
        "#Verificar que sean consistentes\n",
        "print(\"\\n¿Los resultados son iguales?\")\n",
        "print(f\"Age: {'Sí' if np.isclose(promedio_age_np, promedio_age_pd) else 'No'}\")\n",
        "print(f\"Fare: {'Sí' if np.isclose(promedio_fare_np, promedio_fare_pd) else 'No'}\")"
      ],
      "metadata": {
        "colab": {
          "base_uri": "https://localhost:8080/"
        },
        "id": "IXEAav9rOglP",
        "outputId": "bd8d4549-1824-4e4d-b0ac-9819771ebc12"
      },
      "execution_count": 29,
      "outputs": [
        {
          "output_type": "stream",
          "name": "stdout",
          "text": [
            "\n",
            "Promedio de la columna Age:\n",
            "NumPy: 29.7 años\n",
            "Pandas: 29.7 años\n",
            "\n",
            "Promedio de la columna Fare:\n",
            "NumPy: 32.20\n",
            "Pandas: 32.20\n",
            "\n",
            "¿Los resultados son iguales?\n",
            "Age: Sí\n",
            "Fare: Sí\n"
          ]
        }
      ]
    },
    {
      "cell_type": "markdown",
      "source": [
        "# ***EJERCICIO 5:***"
      ],
      "metadata": {
        "id": "X925geGSQEH7"
      }
    },
    {
      "cell_type": "markdown",
      "source": [
        "# **Creación de intervalos de clase usando NumPy y análisis con Pandas**"
      ],
      "metadata": {
        "id": "6CvUVPH-QV1N"
      }
    },
    {
      "cell_type": "code",
      "source": [
        "#Importar numpy para que si funcione con numpy.linspace\n",
        "import numpy\n",
        "\n",
        "#Encontrar el precio mínimo y máximo de los boletos\n",
        "precio_minimo = titanic['Fare'].min()\n",
        "precio_maximo = titanic['Fare'].max()\n",
        "\n",
        "print(f\"El boleto más barato costó: ${precio_minimo:.2f}\")\n",
        "print(f\"El boleto más caro costó: ${precio_maximo:.2f}\")\n",
        "print()\n",
        "\n",
        "#Crear los puntos de división con numpy.linspace\n",
        "puntos_division = numpy.linspace(\n",
        "    start=precio_minimo,\n",
        "    stop=precio_maximo,\n",
        "    num=6  # 6 puntos crean 5 intervalos\n",
        ")\n",
        "\n",
        "print(\"Puntos de división creados con numpy.linspace():\")\n",
        "print([f\"${x:.2f}\" for x in puntos_division])\n",
        "print()\n",
        "\n",
        "#Crear etiquetas para cada intervalo\n",
        "etiquetas_intervalos = []\n",
        "for i in range(5):\n",
        "    etiqueta = f\"${puntos_division[i]:.2f}-${puntos_division[i+1]:.2f}\"\n",
        "    etiquetas_intervalos.append(etiqueta)\n",
        "\n",
        "print(\"Etiquetas para los intervalos de tarifa:\")\n",
        "print(etiquetas_intervalos)\n",
        "print()\n",
        "\n",
        "#Asignar cada pasajero a un intervalo de tarifa\n",
        "titanic['IntervaloTarifa'] = pd.cut(\n",
        "    titanic['Fare'],\n",
        "    bins=puntos_division,\n",
        "    labels=etiquetas_intervalos,\n",
        "    include_lowest=True\n",
        ")\n",
        "\n",
        "#Contar cuántos pasajeros hay en cada intervalo\n",
        "conteo_por_intervalo = titanic['IntervaloTarifa'].value_counts().sort_index()\n",
        "\n",
        "print(\"Cantidad de pasajeros en cada intervalo de tarifa:\")\n",
        "print(conteo_por_intervalo.to_string())\n",
        "print()\n",
        "\n",
        "#Calcular la proporción de supervivencia por intervalo\n",
        "#Usando observed=False se soluciono un error que salia\n",
        "supervivencia_por_intervalo = titanic.groupby('IntervaloTarifa', observed=False)['Survived'].mean()\n",
        "\n",
        "print(\"Tasa de supervivencia por intervalo de tarifa:\")\n",
        "#Creamos una función para manejar los casos sin datos\n",
        "def formatear_tasa(x):\n",
        "    if pd.isna(x):  # pd.isna() para detectar valores faltantes\n",
        "        return \"0.00% (sin datos)\"\n",
        "    else:\n",
        "        return f\"{x:.2%}\"\n",
        "\n",
        "#Aplicamos el formato a cada valor\n",
        "supervivencia_formateada = supervivencia_por_intervalo.apply(formatear_tasa)\n",
        "print(supervivencia_formateada.to_string())\n",
        "print()"
      ],
      "metadata": {
        "colab": {
          "base_uri": "https://localhost:8080/"
        },
        "id": "CAMbGF9hyafH",
        "outputId": "b4d61d8a-811c-4daa-c5e1-3e8adcaae4bf"
      },
      "execution_count": 34,
      "outputs": [
        {
          "output_type": "stream",
          "name": "stdout",
          "text": [
            "El boleto más barato costó: $0.00\n",
            "El boleto más caro costó: $512.33\n",
            "\n",
            "Puntos de división creados con numpy.linspace():\n",
            "['$0.00', '$102.47', '$204.93', '$307.40', '$409.86', '$512.33']\n",
            "\n",
            "Etiquetas para los intervalos de tarifa:\n",
            "['$0.00-$102.47', '$102.47-$204.93', '$204.93-$307.40', '$307.40-$409.86', '$409.86-$512.33']\n",
            "\n",
            "Cantidad de pasajeros en cada intervalo de tarifa:\n",
            "IntervaloTarifa\n",
            "$0.00-$102.47      838\n",
            "$102.47-$204.93     33\n",
            "$204.93-$307.40     17\n",
            "$307.40-$409.86      0\n",
            "$409.86-$512.33      3\n",
            "\n",
            "Tasa de supervivencia por intervalo de tarifa:\n",
            "IntervaloTarifa\n",
            "$0.00-$102.47                 36.16%\n",
            "$102.47-$204.93               75.76%\n",
            "$204.93-$307.40               64.71%\n",
            "$307.40-$409.86    0.00% (sin datos)\n",
            "$409.86-$512.33              100.00%\n",
            "\n"
          ]
        }
      ]
    }
  ]
}